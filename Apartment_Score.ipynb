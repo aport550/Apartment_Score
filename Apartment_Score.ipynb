{
 "cells": [
  {
   "cell_type": "code",
   "execution_count": 1,
   "metadata": {},
   "outputs": [],
   "source": [
    "# Import Libraries\n",
    "\n",
    "import requests\n",
    "import json\n",
    "import re\n",
    "import matplotlib.pyplot as plt \n",
    "import numpy as np\n",
    "import pandas as pd\n",
    "from pandas.io.json import json_normalize\n",
    "from math import sin, cos, sqrt, atan2, radians\n",
    "from geopy.geocoders import Nominatim\n",
    "import gmaps\n",
    "import ipywidgets as widgets\n",
    "from IPython.display import display\n",
    "import warnings\n",
    "\n",
    "# Filter Warnings\n",
    "warnings.filterwarnings('ignore')\n",
    "\n",
    "# Enact Locator\n",
    "geolocator = Nominatim(user_agent=\"Yelp\")\n",
    "\n",
    "# Input API Key\n",
    "\n",
    "#Note Must Access Yelp API for Key\n",
    "api_key= API_KEY\n",
    "\n",
    "headers = {'Authorization': 'Bearer %s' % api_key}\n",
    "url='https://api.yelp.com/v3/businesses/search'"
   ]
  },
  {
   "cell_type": "code",
   "execution_count": 2,
   "metadata": {},
   "outputs": [],
   "source": [
    "\n",
    "# Converts Address to Coordinates\n",
    "def to_coords(address):\n",
    "    location = geolocator.geocode(address)\n",
    "    lat = location.latitude\n",
    "    lon = location.longitude\n",
    "    return [lat,lon]\n",
    "\n",
    "# Get businesses data from JSON \n",
    "def get_business(business,lat,lon,amount):\n",
    "    params = {'term':business,'latitude':lat,'longitude':lon,'sort_by':'distance','location':'New York','limit':amount}\n",
    "    req = requests.get(url, params=params, headers=headers)\n",
    "    parsed = json.loads(req.text)\n",
    "    businesses = parsed[\"businesses\"]\n",
    "    return businesses\n",
    "\n",
    "# Convert JSON data to DataFrame\n",
    "def to_df(data,business,lat,long):\n",
    "    data = json_normalize(data)    \n",
    "    data['distance'] = data.apply(lambda x: get_distance(lat,long, x['coordinates.latitude'],x['coordinates.longitude']),axis=1)\n",
    "    data['type'] = business\n",
    "    return data\n"
   ]
  },
  {
   "cell_type": "code",
   "execution_count": 3,
   "metadata": {},
   "outputs": [],
   "source": [
    "# Get distance\n",
    "def get_distance(lat,long,lat2,long2):\n",
    "    R = 6373.0\n",
    "    lat1 = radians(lat)\n",
    "    lon1 = radians(long)\n",
    "    lat2 = radians(lat2)\n",
    "    lon2 = radians(long2)\n",
    "    dlon = lon2 - lon1\n",
    "    dlat = lat2 - lat1\n",
    "\n",
    "    a = sin(dlat / 2)**2 + cos(lat1) * cos(lat2) * sin(dlon / 2)**2\n",
    "    c = 2 * atan2(sqrt(a), sqrt(1 - a))\n",
    "\n",
    "    distance = R * c\n",
    "    return(distance)\n"
   ]
  },
  {
   "cell_type": "code",
   "execution_count": 4,
   "metadata": {},
   "outputs": [],
   "source": [
    "# Filter business categories\n",
    "\n",
    "def in_range(data,dist):\n",
    "    i = 0\n",
    "    stores = {}\n",
    "    dt = data[data['distance'] < dist]\n",
    "    dt = dt.reset_index()\n",
    "    for row in dt['categories']:\n",
    "        num_cat = len(row)\n",
    "        count = 0\n",
    "        for n in range(num_cat):\n",
    "            #print(n,i)\n",
    "            title = dt['categories'][i][count]['title']\n",
    "            if(title in stores.keys()):\n",
    "                stores[title] += 1\n",
    "            else:\n",
    "                stores[title] = 1\n",
    "            count = count + 1\n",
    "        i = i+1\n",
    "    sort_store = sorted(stores.items(),key=lambda x: x[1],reverse=True)\n",
    "    sort_store = pd.DataFrame(sort_store)\n",
    "    sort_store.columns = [\"Category\",\"Number\"]\n",
    "    return pd.DataFrame(sort_store)\n"
   ]
  },
  {
   "cell_type": "code",
   "execution_count": 5,
   "metadata": {},
   "outputs": [],
   "source": [
    "# Extract single rating from rating and review count\n",
    "\n",
    "def get_rating(data):\n",
    "    rating = np.mean(data['rating'].astype('float'))\n",
    "    rc = np.sum(data['review_count'].astype('int'))\n",
    "    return [rating,rc]\n",
    "\n",
    "# Extract all ratings for a business\n",
    "\n",
    "def get_ratings(data,dist):\n",
    "    cats = in_range(data,dist)\n",
    "    cats['rtg'] = cats.apply(lambda x: get_rating(data[data['categories'].astype(str).str.contains(x['Category'])]),axis=1)\n",
    "    return(cats)\n"
   ]
  },
  {
   "cell_type": "code",
   "execution_count": 6,
   "metadata": {},
   "outputs": [],
   "source": [
    "# Get Park Data for NYC\n",
    "\n",
    "parks = pd.read_csv(\"/Users/allanporter/Downloads/PARK.csv\")\n",
    "unique_parks = parks.drop_duplicates(['PARK_NAME'])\n",
    "\n",
    "# Get Coordinates for the NYC Parks\n",
    "\n",
    "def find_coords(string):\n",
    "    res = re.search(r'.[0-9][0-9].[0-9]+ [0-9][0-9].[0-9]+',string)[0]\n",
    "    res = res.split(\" \")\n",
    "    return res\n",
    "\n",
    "unique_parks['lon'] = unique_parks.apply(lambda x: find_coords(x['the_geom'])[0],axis=1)\n",
    "unique_parks['lat'] = unique_parks.apply(lambda x: find_coords(x['the_geom'])[1],axis=1)\n",
    "\n"
   ]
  },
  {
   "cell_type": "code",
   "execution_count": 17,
   "metadata": {},
   "outputs": [],
   "source": [
    "# Lat and Lon Points for Parks\n",
    "#unique_parks['lat'] = unique_parks['lat'].astype('float')\n",
    "#unique_parks['lon'] = unique_parks['lon'].astype('float')\n",
    "#unique_parks['Distance'] = unique_parks.apply(lambda x: get_distance(lat,long,x['lat'],x['lon']),axis=1)"
   ]
  },
  {
   "cell_type": "code",
   "execution_count": 9,
   "metadata": {},
   "outputs": [],
   "source": [
    "# Filter Park Type\n",
    "\n",
    "unique_parks['clf'] = unique_parks['LANDUSE']\n",
    "\n",
    "def check_type(dt):\n",
    "    if(dt['clf'] != 'nan'):\n",
    "        return(dt['LANDUSE'])\n",
    "    else:\n",
    "        park = dt['PARK_NAME'].lower()\n",
    "        if(' park' in park):\n",
    "            return('Park')\n",
    "        elif(park.endswith(' square')):\n",
    "            return('Square')\n",
    "        elif(park.endswith(' boardwalk')):\n",
    "            return('Boardwalk')\n",
    "        elif(park.endswith(' triangle')):\n",
    "            return('Triangle')\n",
    "        elif('playground' in park):\n",
    "            return('Playground')\n",
    "        elif(('fields' in park)or('ballfields' in park)or('rink' in park)or('recreation' in park)or(\"field\" in park)):\n",
    "            return('Fields')\n",
    "        elif('plaza' in park):\n",
    "            return('Plaza')\n",
    "        elif('mall' in park):\n",
    "            return('Mall')\n",
    "        elif('parkway' in park):\n",
    "            return('Parkway')\n",
    "        elif(('p.s.' in park)or('i.s.' in park)or('m.s.' in park)or('ps' in park)):\n",
    "            return('School')\n",
    "        elif(park.endswith(' golf course')):\n",
    "            return('Golf Course')\n",
    "        else:\n",
    "            return('unknown')\n",
    "    \n",
    "    \n",
    "unique_parks[\"clf\"] = unique_parks.apply(lambda x: check_type(x),axis=1)\n"
   ]
  },
  {
   "cell_type": "code",
   "execution_count": 10,
   "metadata": {},
   "outputs": [],
   "source": [
    "yelp_attributes = [\"cafes\",\"restaurants\",\"bars\",\"nightlife\",\"landmarks\",\"street vendors\", \"vegan\", \"vegetarian\"\n",
    "                  , \"gyms\", \"stores\",\"parks\",\"zoos\",\"playgrounds\",\"cinemas\",\"bowling\",\"hiking\",\"fishing\",\"museums\"\n",
    "                  ,\"Kids Activities\",\"swimming pools\"]"
   ]
  },
  {
   "cell_type": "code",
   "execution_count": 11,
   "metadata": {},
   "outputs": [],
   "source": [
    "def pipeline(addr,dist):\n",
    "    lat,lon = to_coords(addr)\n",
    "    count = 0\n",
    "    final = pd.DataFrame()\n",
    "    for attr in yelp_attributes:\n",
    "        #print(attr)\n",
    "        dt = get_business(attr,lat,lon,50)\n",
    "        data = to_df(dt,attr,lat,lon)\n",
    "        #data = data.reset_index()\n",
    "        l = len(data[data['distance'] <= dist])\n",
    "        if(l == 0):\n",
    "            pass\n",
    "        else:    \n",
    "            result = get_ratings(data,dist)\n",
    "            #print(len(result))\n",
    "            if(count == 0):\n",
    "                final = result\n",
    "            else:\n",
    "                final = final.append(result,ignore_index=True)\n",
    "            count += 1\n",
    "    final['Rating'] = [r for r,v in final['rtg']]\n",
    "    final['Review_Count'] = [v for r,v in final['rtg']]\n",
    "    final = final.sort_values(by=\"Review_Count\",ascending=False)\n",
    "    final = final.drop_duplicates(subset='Category', keep=\"first\")\n",
    "    final = final[final[\"Review_Count\"]>0]\n",
    "    final = final.reset_index()\n",
    "    return(final[[\"Category\",\"Number\",\"Rating\",\"Review_Count\"]])\n"
   ]
  },
  {
   "cell_type": "code",
   "execution_count": 12,
   "metadata": {},
   "outputs": [],
   "source": [
    "def get_parks(lat,lon,dist):\n",
    "    unique_parks['Distance'] = unique_parks.apply(lambda x: get_distance(lat,lon,x['lat'],x['lon']),axis=1)\n",
    "    up = unique_parks[unique_parks['Distance']<dist]\n",
    "    return up\n"
   ]
  },
  {
   "cell_type": "code",
   "execution_count": 13,
   "metadata": {},
   "outputs": [],
   "source": [
    "def get_score(f):\n",
    "    return np.mean(f[f['Review_Count']>5]['Rating'])\n",
    "#get_score(f)"
   ]
  },
  {
   "cell_type": "code",
   "execution_count": 16,
   "metadata": {},
   "outputs": [],
   "source": [
    "def highest_score(data):\n",
    "    data = data.sort_values(by=\"Rating\",ascending=False)\n",
    "    data = data[data['Review_Count'] > 5]\n",
    "    data =  data[['Category','Rating']][0:5]\n",
    "    data = data.reset_index()\n",
    "    print(\"Your neighborhood has highly rated {attr1}, {attr2}, {attr3}, {attr4}, and {attr5}.\".format(\n",
    "    attr1= data['Category'][0], attr2 = data['Category'][1], attr3 = data['Category'][2], attr4 = data['Category'][3],\n",
    "        attr5 = data['Category'][4])\n",
    "    )\n",
    "          \n",
    "f = pipeline(\"43 Maple Avenue, Cedarhurst, NY\",2)"
   ]
  },
  {
   "cell_type": "code",
   "execution_count": 18,
   "metadata": {},
   "outputs": [
    {
     "name": "stdout",
     "output_type": "stream",
     "text": [
      "Please Input an Address\n"
     ]
    },
    {
     "data": {
      "application/vnd.jupyter.widget-view+json": {
       "model_id": "c2c19fc08d94468586d989cba5bf4d97",
       "version_major": 2,
       "version_minor": 0
      },
      "text/plain": [
       "Text(value='')"
      ]
     },
     "metadata": {},
     "output_type": "display_data"
    },
    {
     "name": "stdout",
     "output_type": "stream",
     "text": [
      "Your Neighburhood Score is: \n",
      "3.7488058872318377\n",
      "Your neighborhood has highly rated Bus Tours, Boot Camps, Interval Training Gyms, Reiki, and Taekwondo.\n",
      "None\n"
     ]
    }
   ],
   "source": [
    "input_text = widgets.Text()\n",
    "\n",
    "def bind_input_to_output(sender):\n",
    "    address = input_text.value\n",
    "    f = pipeline(address,2)\n",
    "    score = get_score(f)\n",
    "    print(\"Your Neighburhood Score is: \")\n",
    "    print(score)\n",
    "    print(highest_score(f))\n",
    "input_text.on_submit(bind_input_to_output)\n",
    "print(\"Please Input an Address\")\n",
    "input_text\n"
   ]
  },
  {
   "cell_type": "code",
   "execution_count": null,
   "metadata": {},
   "outputs": [],
   "source": []
  }
 ],
 "metadata": {
  "kernelspec": {
   "display_name": "Python 3",
   "language": "python",
   "name": "python3"
  },
  "language_info": {
   "codemirror_mode": {
    "name": "ipython",
    "version": 3
   },
   "file_extension": ".py",
   "mimetype": "text/x-python",
   "name": "python",
   "nbconvert_exporter": "python",
   "pygments_lexer": "ipython3",
   "version": "3.7.4"
  }
 },
 "nbformat": 4,
 "nbformat_minor": 2
}
